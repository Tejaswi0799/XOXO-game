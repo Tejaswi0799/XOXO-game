{
 "cells": [
  {
   "cell_type": "code",
   "execution_count": 1,
   "id": "deebd924-644f-4d13-961e-d9df25eb4956",
   "metadata": {},
   "outputs": [
    {
     "name": "stdout",
     "output_type": "stream",
     "text": [
      "Tic-Tac-Toe AI Mode! You are 'X' and AI is 'O'.\n",
      "\n",
      "\n",
      "   |   |   \n",
      "---|---|---\n",
      "   |   |   \n",
      "---|---|---\n",
      "   |   |   \n",
      "\n",
      "\n"
     ]
    },
    {
     "name": "stdin",
     "output_type": "stream",
     "text": [
      "Enter position (1-9):  0\n"
     ]
    },
    {
     "name": "stdout",
     "output_type": "stream",
     "text": [
      "Invalid move, try again!\n"
     ]
    },
    {
     "name": "stdin",
     "output_type": "stream",
     "text": [
      "Enter position (1-9):  1\n"
     ]
    },
    {
     "name": "stdout",
     "output_type": "stream",
     "text": [
      "\n",
      "\n",
      " X |   |   \n",
      "---|---|---\n",
      "   |   |   \n",
      "---|---|---\n",
      "   |   |   \n",
      "\n",
      "\n",
      "AI is making a move...\n",
      "\n",
      "\n",
      " X |   |   \n",
      "---|---|---\n",
      "   | O |   \n",
      "---|---|---\n",
      "   |   |   \n",
      "\n",
      "\n"
     ]
    },
    {
     "name": "stdin",
     "output_type": "stream",
     "text": [
      "Enter position (1-9):  9\n"
     ]
    },
    {
     "name": "stdout",
     "output_type": "stream",
     "text": [
      "\n",
      "\n",
      " X |   |   \n",
      "---|---|---\n",
      "   | O |   \n",
      "---|---|---\n",
      "   |   | X \n",
      "\n",
      "\n",
      "AI is making a move...\n",
      "\n",
      "\n",
      " X | O |   \n",
      "---|---|---\n",
      "   | O |   \n",
      "---|---|---\n",
      "   |   | X \n",
      "\n",
      "\n"
     ]
    },
    {
     "name": "stdin",
     "output_type": "stream",
     "text": [
      "Enter position (1-9):  8\n"
     ]
    },
    {
     "name": "stdout",
     "output_type": "stream",
     "text": [
      "\n",
      "\n",
      " X | O |   \n",
      "---|---|---\n",
      "   | O |   \n",
      "---|---|---\n",
      "   | X | X \n",
      "\n",
      "\n",
      "AI is making a move...\n",
      "\n",
      "\n",
      " X | O |   \n",
      "---|---|---\n",
      "   | O |   \n",
      "---|---|---\n",
      " O | X | X \n",
      "\n",
      "\n"
     ]
    },
    {
     "name": "stdin",
     "output_type": "stream",
     "text": [
      "Enter position (1-9):  3\n"
     ]
    },
    {
     "name": "stdout",
     "output_type": "stream",
     "text": [
      "\n",
      "\n",
      " X | O | X \n",
      "---|---|---\n",
      "   | O |   \n",
      "---|---|---\n",
      " O | X | X \n",
      "\n",
      "\n",
      "AI is making a move...\n",
      "\n",
      "\n",
      " X | O | X \n",
      "---|---|---\n",
      "   | O | O \n",
      "---|---|---\n",
      " O | X | X \n",
      "\n",
      "\n"
     ]
    },
    {
     "name": "stdin",
     "output_type": "stream",
     "text": [
      "Enter position (1-9):  4\n"
     ]
    },
    {
     "name": "stdout",
     "output_type": "stream",
     "text": [
      "\n",
      "\n",
      " X | O | X \n",
      "---|---|---\n",
      " X | O | O \n",
      "---|---|---\n",
      " O | X | X \n",
      "\n",
      "\n",
      "It's a draw!\n"
     ]
    }
   ],
   "source": [
    "import math\n",
    "\n",
    "# Initialize board\n",
    "board = [' ' for _ in range(9)]\n",
    "\n",
    "# Function to print the board\n",
    "def print_board():\n",
    "    print(\"\\n\")\n",
    "    print(f\" {board[0]} | {board[1]} | {board[2]} \")\n",
    "    print(\"---|---|---\")\n",
    "    print(f\" {board[3]} | {board[4]} | {board[5]} \")\n",
    "    print(\"---|---|---\")\n",
    "    print(f\" {board[6]} | {board[7]} | {board[8]} \")\n",
    "    print(\"\\n\")\n",
    "\n",
    "# Check for a win\n",
    "def check_winner(player):\n",
    "    win_conditions = [(0,1,2), (3,4,5), (6,7,8), (0,3,6), (1,4,7), (2,5,8), (0,4,8), (2,4,6)]\n",
    "    return any(board[a] == board[b] == board[c] == player for a, b, c in win_conditions)\n",
    "\n",
    "# Check if board is full (draw)\n",
    "def is_full():\n",
    "    return ' ' not in board\n",
    "\n",
    "# Minimax Algorithm for AI\n",
    "def minimax(is_maximizing):\n",
    "    if check_winner('O'): return 1\n",
    "    if check_winner('X'): return -1\n",
    "    if is_full(): return 0\n",
    "\n",
    "    if is_maximizing:\n",
    "        best_score = -math.inf\n",
    "        for i in range(9):\n",
    "            if board[i] == ' ':\n",
    "                board[i] = 'O'\n",
    "                score = minimax(False)\n",
    "                board[i] = ' '  # Undo move\n",
    "                best_score = max(best_score, score)\n",
    "        return best_score\n",
    "    else:\n",
    "        best_score = math.inf\n",
    "        for i in range(9):\n",
    "            if board[i] == ' ':\n",
    "                board[i] = 'X'\n",
    "                score = minimax(True)\n",
    "                board[i] = ' '  # Undo move\n",
    "                best_score = min(best_score, score)\n",
    "        return best_score\n",
    "\n",
    "# AI makes a move\n",
    "def ai_move():\n",
    "    best_score = -math.inf\n",
    "    best_move = None\n",
    "    for i in range(9):\n",
    "        if board[i] == ' ':\n",
    "            board[i] = 'O'\n",
    "            score = minimax(False)\n",
    "            board[i] = ' '  # Undo move\n",
    "            if score > best_score:\n",
    "                best_score = score\n",
    "                best_move = i\n",
    "    board[best_move] = 'O'\n",
    "\n",
    "# Player makes a move\n",
    "def player_move():\n",
    "    while True:\n",
    "        try:\n",
    "            move = int(input(\"Enter position (1-9): \")) - 1\n",
    "            if 0 <= move < 9 and board[move] == ' ':\n",
    "                board[move] = 'X'\n",
    "                break\n",
    "            else:\n",
    "                print(\"Invalid move, try again!\")\n",
    "        except ValueError:\n",
    "            print(\"Please enter a number between 1 and 9.\")\n",
    "\n",
    "# Main game loop\n",
    "def play():\n",
    "    print(\"Tic-Tac-Toe AI Mode! You are 'X' and AI is 'O'.\")\n",
    "    print_board()\n",
    "\n",
    "    while True:\n",
    "        player_move()\n",
    "        print_board()\n",
    "        if check_winner('X'):\n",
    "            print(\"🎉 You win!\")\n",
    "            break\n",
    "        if is_full():\n",
    "            print(\"It's a draw!\")\n",
    "            break\n",
    "\n",
    "        print(\"AI is making a move...\")\n",
    "        ai_move()\n",
    "        print_board()\n",
    "        if check_winner('O'):\n",
    "            print(\"🤖 AI wins!\")\n",
    "            break\n",
    "        if is_full():\n",
    "            print(\"It's a draw!\")\n",
    "            break\n",
    "\n",
    "# Run the game\n",
    "play()\n"
   ]
  },
  {
   "cell_type": "code",
   "execution_count": null,
   "id": "1f4dacdb-2e6e-4919-a0c6-abbae29159c6",
   "metadata": {},
   "outputs": [],
   "source": []
  }
 ],
 "metadata": {
  "kernelspec": {
   "display_name": "Python [conda env:base] *",
   "language": "python",
   "name": "conda-base-py"
  },
  "language_info": {
   "codemirror_mode": {
    "name": "ipython",
    "version": 3
   },
   "file_extension": ".py",
   "mimetype": "text/x-python",
   "name": "python",
   "nbconvert_exporter": "python",
   "pygments_lexer": "ipython3",
   "version": "3.12.7"
  }
 },
 "nbformat": 4,
 "nbformat_minor": 5
}
